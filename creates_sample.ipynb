{
 "cells": [
  {
   "cell_type": "markdown",
   "id": "52bf2a4b",
   "metadata": {},
   "source": [
    "# Sample dataset for project\n"
   ]
  },
  {
   "cell_type": "code",
   "execution_count": 53,
   "id": "afd2662a",
   "metadata": {},
   "outputs": [],
   "source": [
    "# import libraries\n",
    "import pandas as pd\n",
    "from faker import Faker\n",
    "\n",
    "# create fake object\n",
    "fake = Faker()"
   ]
  },
  {
   "cell_type": "code",
   "execution_count": 54,
   "id": "26853100",
   "metadata": {},
   "outputs": [],
   "source": [
    "# create the unique areas\n",
    "regions = [fake.name() + ' center' for region in range(50)]\n",
    "regions = set(regions)\n"
   ]
  },
  {
   "cell_type": "code",
   "execution_count": null,
   "id": "1070ddd0",
   "metadata": {},
   "outputs": [],
   "source": [
    "import random\n",
    "from datetime import datetime, timedelta\n",
    "import pandas as pd \n",
    "start_date = '01-01-2025'\n",
    "start_date_obj = datetime.strptime(start_date, '%d-%m-%Y')  # Convert start_date to datetime object\n",
    "weeks = 24\n",
    "\n",
    "# Initialize a dictionary to hold the new dates for each region\n",
    "new_dates_by_region = {}\n",
    "\n",
    "# Loop through each region and generate a list of dates with random values\n",
    "for region in regions:\n",
    "    new_dates = []\n",
    "    for week in range(weeks):\n",
    "        new_date = start_date_obj + timedelta(weeks=week)\n",
    "        random_value = random.randint(500, 1000)  # Generate a random integer between 500 and 1000\n",
    "        new_dates.append((new_date.strftime('%d-%m-%Y'), random_value))  # Store the date and random value as a tuple\n",
    "    new_dates_by_region[region] = new_dates\n",
    "\n",
    "\n",
    "# Initialize a list to hold the data for the DataFrame\n",
    "data = []\n",
    "\n",
    "# Loop through each region and generate a list of dates with random values\n",
    "for region in regions:\n",
    "    for week in range(weeks):\n",
    "        new_date = start_date_obj + timedelta(weeks=week)\n",
    "        random_value = random.randint(500, 1000)  # Generate a random integer between 500 and 1000\n",
    "        data.append((region, new_date.strftime('%d-%m-%Y'), random_value))  # Store the region, date, and random value\n",
    "\n",
    "# Create a DataFrame from the data\n",
    "\n",
    "df = pd.DataFrame(data, columns=['Region', 'Date', 'Spending'])\n",
    "# df.to_excel('clothing_sample_dataset.xlsx')"
   ]
  },
  {
   "cell_type": "code",
   "execution_count": null,
   "id": "0c132d46",
   "metadata": {},
   "outputs": [],
   "source": [
    "import random\n",
    "from datetime import datetime, timedelta\n",
    "import pandas as pd \n",
    "start_date = '01-01-2025'\n",
    "start_date_obj = datetime.strptime(start_date, '%d-%m-%Y')  # Convert start_date to datetime object\n",
    "weeks = 24\n",
    "\n",
    "# Initialize a dictionary to hold the new dates for each region\n",
    "new_dates_by_region = {}\n",
    "\n",
    "# Loop through each region and generate a list of dates with random values\n",
    "for region in regions:\n",
    "    new_dates = []\n",
    "    for week in range(weeks):\n",
    "        new_date = start_date_obj + timedelta(weeks=week)\n",
    "        random_value = random.randint(2, 100)  # Generate a random integer between 0 and 100 \n",
    "        new_dates.append((new_date.strftime('%d-%m-%Y'), random_value))  # Store the date and random value as a tuple\n",
    "    new_dates_by_region[region] = new_dates\n",
    "\n",
    "\n",
    "# Initialize a list to hold the data for the DataFrame\n",
    "data = []\n",
    "\n",
    "# Loop through each region and generate a list of dates with random values\n",
    "for region in regions:\n",
    "    for week in range(weeks):\n",
    "        new_date = start_date_obj + timedelta(weeks=week)\n",
    "        random_value = random.randint(2, 100)  # Generate a random integer between 500 and 1000\n",
    "        data.append((region, new_date.strftime('%d-%m-%Y'), random_value))  # Store the region, date, and random value\n",
    "\n",
    "# Create a DataFrame from the data\n",
    "\n",
    "df_2 = pd.DataFrame(data, columns=['Region', 'Date', 'Unemployed'])\n",
    "# df_2.to_excel('unemployed_sample_dataset.xlsx')"
   ]
  },
  {
   "cell_type": "code",
   "execution_count": 70,
   "id": "f82f6b42",
   "metadata": {},
   "outputs": [
    {
     "data": {
      "application/vnd.microsoft.datawrangler.viewer.v0+json": {
       "columns": [
        {
         "name": "index",
         "rawType": "int64",
         "type": "integer"
        },
        {
         "name": "Region",
         "rawType": "object",
         "type": "string"
        },
        {
         "name": "Date",
         "rawType": "object",
         "type": "string"
        },
        {
         "name": "Unemployed",
         "rawType": "int64",
         "type": "integer"
        }
       ],
       "ref": "5767ab80-227c-416e-bff3-c294a5851c6c",
       "rows": [
        [
         "0",
         "Kathleen Miller center",
         "01-01-2025",
         "58"
        ],
        [
         "1",
         "Kathleen Miller center",
         "08-01-2025",
         "100"
        ],
        [
         "2",
         "Kathleen Miller center",
         "15-01-2025",
         "58"
        ],
        [
         "3",
         "Kathleen Miller center",
         "22-01-2025",
         "90"
        ],
        [
         "4",
         "Kathleen Miller center",
         "29-01-2025",
         "85"
        ],
        [
         "5",
         "Kathleen Miller center",
         "05-02-2025",
         "22"
        ],
        [
         "6",
         "Kathleen Miller center",
         "12-02-2025",
         "33"
        ],
        [
         "7",
         "Kathleen Miller center",
         "19-02-2025",
         "73"
        ],
        [
         "8",
         "Kathleen Miller center",
         "26-02-2025",
         "36"
        ],
        [
         "9",
         "Kathleen Miller center",
         "05-03-2025",
         "28"
        ],
        [
         "10",
         "Kathleen Miller center",
         "12-03-2025",
         "62"
        ],
        [
         "11",
         "Kathleen Miller center",
         "19-03-2025",
         "66"
        ],
        [
         "12",
         "Kathleen Miller center",
         "26-03-2025",
         "17"
        ],
        [
         "13",
         "Kathleen Miller center",
         "02-04-2025",
         "10"
        ],
        [
         "14",
         "Kathleen Miller center",
         "09-04-2025",
         "36"
        ],
        [
         "15",
         "Kathleen Miller center",
         "16-04-2025",
         "85"
        ],
        [
         "16",
         "Kathleen Miller center",
         "23-04-2025",
         "19"
        ],
        [
         "17",
         "Kathleen Miller center",
         "30-04-2025",
         "7"
        ],
        [
         "18",
         "Kathleen Miller center",
         "07-05-2025",
         "22"
        ],
        [
         "19",
         "Kathleen Miller center",
         "14-05-2025",
         "38"
        ],
        [
         "20",
         "Kathleen Miller center",
         "21-05-2025",
         "43"
        ],
        [
         "21",
         "Kathleen Miller center",
         "28-05-2025",
         "6"
        ],
        [
         "22",
         "Kathleen Miller center",
         "04-06-2025",
         "70"
        ],
        [
         "23",
         "Kathleen Miller center",
         "11-06-2025",
         "40"
        ],
        [
         "24",
         "Mr. James King center",
         "01-01-2025",
         "62"
        ],
        [
         "25",
         "Mr. James King center",
         "08-01-2025",
         "26"
        ],
        [
         "26",
         "Mr. James King center",
         "15-01-2025",
         "59"
        ],
        [
         "27",
         "Mr. James King center",
         "22-01-2025",
         "42"
        ],
        [
         "28",
         "Mr. James King center",
         "29-01-2025",
         "39"
        ],
        [
         "29",
         "Mr. James King center",
         "05-02-2025",
         "90"
        ],
        [
         "30",
         "Mr. James King center",
         "12-02-2025",
         "38"
        ],
        [
         "31",
         "Mr. James King center",
         "19-02-2025",
         "93"
        ],
        [
         "32",
         "Mr. James King center",
         "26-02-2025",
         "16"
        ],
        [
         "33",
         "Mr. James King center",
         "05-03-2025",
         "11"
        ],
        [
         "34",
         "Mr. James King center",
         "12-03-2025",
         "19"
        ],
        [
         "35",
         "Mr. James King center",
         "19-03-2025",
         "11"
        ],
        [
         "36",
         "Mr. James King center",
         "26-03-2025",
         "97"
        ],
        [
         "37",
         "Mr. James King center",
         "02-04-2025",
         "43"
        ],
        [
         "38",
         "Mr. James King center",
         "09-04-2025",
         "64"
        ],
        [
         "39",
         "Mr. James King center",
         "16-04-2025",
         "30"
        ],
        [
         "40",
         "Mr. James King center",
         "23-04-2025",
         "90"
        ],
        [
         "41",
         "Mr. James King center",
         "30-04-2025",
         "76"
        ],
        [
         "42",
         "Mr. James King center",
         "07-05-2025",
         "46"
        ],
        [
         "43",
         "Mr. James King center",
         "14-05-2025",
         "14"
        ],
        [
         "44",
         "Mr. James King center",
         "21-05-2025",
         "89"
        ],
        [
         "45",
         "Mr. James King center",
         "28-05-2025",
         "75"
        ],
        [
         "46",
         "Mr. James King center",
         "04-06-2025",
         "28"
        ],
        [
         "47",
         "Mr. James King center",
         "11-06-2025",
         "43"
        ],
        [
         "48",
         "Felicia Silva center",
         "01-01-2025",
         "53"
        ],
        [
         "49",
         "Felicia Silva center",
         "08-01-2025",
         "38"
        ]
       ],
       "shape": {
        "columns": 3,
        "rows": 1200
       }
      },
      "text/html": [
       "<div>\n",
       "<style scoped>\n",
       "    .dataframe tbody tr th:only-of-type {\n",
       "        vertical-align: middle;\n",
       "    }\n",
       "\n",
       "    .dataframe tbody tr th {\n",
       "        vertical-align: top;\n",
       "    }\n",
       "\n",
       "    .dataframe thead th {\n",
       "        text-align: right;\n",
       "    }\n",
       "</style>\n",
       "<table border=\"1\" class=\"dataframe\">\n",
       "  <thead>\n",
       "    <tr style=\"text-align: right;\">\n",
       "      <th></th>\n",
       "      <th>Region</th>\n",
       "      <th>Date</th>\n",
       "      <th>Unemployed</th>\n",
       "    </tr>\n",
       "  </thead>\n",
       "  <tbody>\n",
       "    <tr>\n",
       "      <th>0</th>\n",
       "      <td>Kathleen Miller center</td>\n",
       "      <td>01-01-2025</td>\n",
       "      <td>58</td>\n",
       "    </tr>\n",
       "    <tr>\n",
       "      <th>1</th>\n",
       "      <td>Kathleen Miller center</td>\n",
       "      <td>08-01-2025</td>\n",
       "      <td>100</td>\n",
       "    </tr>\n",
       "    <tr>\n",
       "      <th>2</th>\n",
       "      <td>Kathleen Miller center</td>\n",
       "      <td>15-01-2025</td>\n",
       "      <td>58</td>\n",
       "    </tr>\n",
       "    <tr>\n",
       "      <th>3</th>\n",
       "      <td>Kathleen Miller center</td>\n",
       "      <td>22-01-2025</td>\n",
       "      <td>90</td>\n",
       "    </tr>\n",
       "    <tr>\n",
       "      <th>4</th>\n",
       "      <td>Kathleen Miller center</td>\n",
       "      <td>29-01-2025</td>\n",
       "      <td>85</td>\n",
       "    </tr>\n",
       "    <tr>\n",
       "      <th>...</th>\n",
       "      <td>...</td>\n",
       "      <td>...</td>\n",
       "      <td>...</td>\n",
       "    </tr>\n",
       "    <tr>\n",
       "      <th>1195</th>\n",
       "      <td>Alexa Johnson center</td>\n",
       "      <td>14-05-2025</td>\n",
       "      <td>49</td>\n",
       "    </tr>\n",
       "    <tr>\n",
       "      <th>1196</th>\n",
       "      <td>Alexa Johnson center</td>\n",
       "      <td>21-05-2025</td>\n",
       "      <td>97</td>\n",
       "    </tr>\n",
       "    <tr>\n",
       "      <th>1197</th>\n",
       "      <td>Alexa Johnson center</td>\n",
       "      <td>28-05-2025</td>\n",
       "      <td>21</td>\n",
       "    </tr>\n",
       "    <tr>\n",
       "      <th>1198</th>\n",
       "      <td>Alexa Johnson center</td>\n",
       "      <td>04-06-2025</td>\n",
       "      <td>59</td>\n",
       "    </tr>\n",
       "    <tr>\n",
       "      <th>1199</th>\n",
       "      <td>Alexa Johnson center</td>\n",
       "      <td>11-06-2025</td>\n",
       "      <td>89</td>\n",
       "    </tr>\n",
       "  </tbody>\n",
       "</table>\n",
       "<p>1200 rows × 3 columns</p>\n",
       "</div>"
      ],
      "text/plain": [
       "                      Region        Date  Unemployed\n",
       "0     Kathleen Miller center  01-01-2025          58\n",
       "1     Kathleen Miller center  08-01-2025         100\n",
       "2     Kathleen Miller center  15-01-2025          58\n",
       "3     Kathleen Miller center  22-01-2025          90\n",
       "4     Kathleen Miller center  29-01-2025          85\n",
       "...                      ...         ...         ...\n",
       "1195    Alexa Johnson center  14-05-2025          49\n",
       "1196    Alexa Johnson center  21-05-2025          97\n",
       "1197    Alexa Johnson center  28-05-2025          21\n",
       "1198    Alexa Johnson center  04-06-2025          59\n",
       "1199    Alexa Johnson center  11-06-2025          89\n",
       "\n",
       "[1200 rows x 3 columns]"
      ]
     },
     "execution_count": 70,
     "metadata": {},
     "output_type": "execute_result"
    }
   ],
   "source": [
    "import os \n",
    "datasets = 'data'\n",
    "user_region = 'Kathleen Miller center'\n",
    "for data in os.listdir(datasets):\n",
    "    df = pd.read_excel(os.path.join('data', data), index_col = 0)\n",
    "df"
   ]
  }
 ],
 "metadata": {
  "kernelspec": {
   "display_name": ".venv",
   "language": "python",
   "name": "python3"
  },
  "language_info": {
   "codemirror_mode": {
    "name": "ipython",
    "version": 3
   },
   "file_extension": ".py",
   "mimetype": "text/x-python",
   "name": "python",
   "nbconvert_exporter": "python",
   "pygments_lexer": "ipython3",
   "version": "3.9.0"
  }
 },
 "nbformat": 4,
 "nbformat_minor": 5
}
